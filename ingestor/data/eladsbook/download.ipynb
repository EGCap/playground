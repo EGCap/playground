{
 "cells": [
  {
   "cell_type": "code",
   "execution_count": null,
   "metadata": {},
   "outputs": [],
   "source": [
    "import epub\n",
    "import html2text\n",
    "\n",
    "book = epub.open_epub('./book.epub')\n",
    "text = ''\n",
    "for item in book.opf.manifest.values():\n",
    "    if item.media_type == 'application/xhtml+xml':\n",
    "        with book.open(item.href) as f:\n",
    "            html = f.read().decode('utf-8')\n",
    "            text += html2text.html2text(html)\n",
    "book.close()\n",
    "\n",
    "print(text)"
   ]
  },
  {
   "cell_type": "code",
   "execution_count": null,
   "metadata": {},
   "outputs": [],
   "source": [
    "print(len(text))\n",
    "print(text)"
   ]
  },
  {
   "cell_type": "code",
   "execution_count": null,
   "metadata": {},
   "outputs": [],
   "source": [
    "# import tokenizer\n",
    "import tiktoken\n",
    "\n",
    "enc = tiktoken.get_encoding(\"cl100k_base\")\n",
    "\n",
    "tokens = enc.encode(text)\n",
    "\n",
    "chunk_size = 200\n",
    "chunks = [tokens[i:i+chunk_size] for i in range(0, len(tokens), chunk_size)]\n",
    "\n",
    "transformedData = []\n",
    "length = 0\n",
    "for i,chunk in enumerate(chunks):\n",
    "    chunkText = enc.decode(chunk)\n",
    "    transformedData.append({\n",
    "        \"toEmbed\": chunkText\n",
    "    })\n",
    "    length += len(chunkText)\n",
    "\n",
    "print(length)\n",
    "\n",
    "\n",
    "# Write to JSONL file\n",
    "import jsonlines\n",
    "\n",
    "with jsonlines.open('data.jsonl', mode='w') as writer:\n",
    "    writer.write_all(transformedData)\n"
   ]
  },
  {
   "cell_type": "code",
   "execution_count": null,
   "metadata": {},
   "outputs": [],
   "source": []
  }
 ],
 "metadata": {
  "kernelspec": {
   "display_name": "Python 3",
   "language": "python",
   "name": "python3"
  },
  "language_info": {
   "codemirror_mode": {
    "name": "ipython",
    "version": 3
   },
   "file_extension": ".py",
   "mimetype": "text/x-python",
   "name": "python",
   "nbconvert_exporter": "python",
   "pygments_lexer": "ipython3",
   "version": "3.11.4"
  },
  "orig_nbformat": 4
 },
 "nbformat": 4,
 "nbformat_minor": 2
}
