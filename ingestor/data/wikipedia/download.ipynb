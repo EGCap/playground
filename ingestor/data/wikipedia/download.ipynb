{
 "cells": [
  {
   "cell_type": "code",
   "execution_count": 3,
   "metadata": {},
   "outputs": [
    {
     "name": "stderr",
     "output_type": "stream",
     "text": [
      "Found cached dataset wikipedia (/Users/david/.cache/huggingface/datasets/wikipedia/20220301.simple/2.0.0/aa542ed919df55cc5d3347f42dd4521d05ca68751f50dbc32bae2a7f1e167559)\n",
      "100%|██████████| 1/1 [00:00<00:00, 130.96it/s]\n"
     ]
    }
   ],
   "source": [
    "from datasets import load_dataset\n",
    "\n",
    "dataset = load_dataset(\"wikipedia\", \"20220301.simple\")"
   ]
  },
  {
   "cell_type": "code",
   "execution_count": 4,
   "metadata": {},
   "outputs": [
    {
     "name": "stdout",
     "output_type": "stream",
     "text": [
      "DatasetDict({\n",
      "    train: Dataset({\n",
      "        features: ['id', 'url', 'title', 'text'],\n",
      "        num_rows: 205328\n",
      "    })\n",
      "})\n"
     ]
    }
   ],
   "source": [
    "print(dataset)"
   ]
  },
  {
   "cell_type": "code",
   "execution_count": 8,
   "metadata": {},
   "outputs": [],
   "source": [
    "\n",
    "# import tokenizer\n",
    "import tiktoken\n",
    "\n",
    "# write dataset to JSONL file\n",
    "transformedData = []\n",
    "\n",
    "joinedData = dataset[\"train\"]\n",
    "for i in range(len(joinedData)):\n",
    "    text = joinedData[i][\"text\"]\n",
    "    title = joinedData[i][\"title\"]\n",
    "    url = joinedData[i][\"url\"]\n",
    "\n",
    "\n",
    "    enc = tiktoken.get_encoding(\"cl100k_base\")\n",
    "    tokens = enc.encode(\"Title:\"+title+\" Text:\"+text)\n",
    "    # only embed the first 8000 tokens\n",
    "    tokens = tokens[:8000] if len(tokens) > 8000 else tokens\n",
    "    toEmbed = enc.decode(tokens)\n",
    "\n",
    "    value = \"Title:\"+title+\" URL:\"+url+\" Text:\"+text\n",
    "    transformedData.append({\n",
    "        \"toEmbed\": toEmbed,\n",
    "        \"value\": {\n",
    "            \"title\": title,\n",
    "            \"url\": url,\n",
    "            \"text\": text\n",
    "        }\n",
    "    })\n",
    "\n",
    "# Write to JSONL file\n",
    "import jsonlines\n",
    "\n",
    "with jsonlines.open('data.jsonl', mode='w') as writer:\n",
    "    writer.write_all(transformedData)\n"
   ]
  },
  {
   "cell_type": "code",
   "execution_count": null,
   "metadata": {},
   "outputs": [],
   "source": []
  }
 ],
 "metadata": {
  "kernelspec": {
   "display_name": "Python 3",
   "language": "python",
   "name": "python3"
  },
  "language_info": {
   "codemirror_mode": {
    "name": "ipython",
    "version": 3
   },
   "file_extension": ".py",
   "mimetype": "text/x-python",
   "name": "python",
   "nbconvert_exporter": "python",
   "pygments_lexer": "ipython3",
   "version": "3.11.4"
  },
  "orig_nbformat": 4
 },
 "nbformat": 4,
 "nbformat_minor": 2
}
